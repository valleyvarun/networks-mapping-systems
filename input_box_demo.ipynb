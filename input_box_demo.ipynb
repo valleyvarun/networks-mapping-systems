{
 "cells": [
  {
   "cell_type": "markdown",
   "id": "8cde7940",
   "metadata": {},
   "source": [
    "# Interactive Input Box (ipywidgets)\n",
    "\n",
    "This notebook demonstrates a simple interactive input box using ipywidgets.\n",
    "\n",
    "How to use:\n",
    "- Type in the box and press Enter or click Submit to display your input below.\n",
    "- Use Clear to reset the input and output.\n",
    "\n",
    "If you get an error about ipywidgets not being installed, run the optional setup cell below first."
   ]
  },
  {
   "cell_type": "code",
   "execution_count": 2,
   "id": "f6eef24d",
   "metadata": {},
   "outputs": [
    {
     "name": "stdout",
     "output_type": "stream",
     "text": [
      "ipywidgets is installed and ready ✅\n"
     ]
    }
   ],
   "source": [
    "# Optional: Ensure ipywidgets is available and enabled in this environment\n",
    "# If you see import errors when running the next cell, run this cell once.\n",
    "try:\n",
    "    import ipywidgets as widgets\n",
    "    from IPython.display import display\n",
    "\n",
    "    print(\"ipywidgets is installed and ready ✅\")\n",
    "except Exception as e:\n",
    "    print(\n",
    "        \"If import fails, install: pip install ipywidgets && jupyter nbextension enable --py widgetsnbextension\"\n",
    "    )\n",
    "    print(\"Error:\", e)"
   ]
  },
  {
   "cell_type": "code",
   "execution_count": 3,
   "id": "4858a3fd",
   "metadata": {},
   "outputs": [
    {
     "name": "stderr",
     "output_type": "stream",
     "text": [
      "C:\\Users\\Varun SA\\AppData\\Local\\Temp\\ipykernel_47292\\317771542.py:35: DeprecationWarning: on_submit is deprecated. Instead, set the .continuous_update attribute to False and observe the value changing with: mywidget.observe(callback, 'value').\n",
      "  text.on_submit(on_submit)\n"
     ]
    },
    {
     "data": {
      "application/vnd.jupyter.widget-view+json": {
       "model_id": "c02ac21f1af441a3ba4c7ea80e66a248",
       "version_major": 2,
       "version_minor": 0
      },
      "text/plain": [
       "VBox(children=(HBox(children=(Text(value='', description='Input:', placeholder='Type something...'), Button(bu…"
      ]
     },
     "execution_count": 3,
     "metadata": {},
     "output_type": "execute_result"
    }
   ],
   "source": [
    "# Interactive input box demo\n",
    "import ipywidgets as widgets\n",
    "from IPython.display import display, Markdown, clear_output\n",
    "\n",
    "# Widgets\n",
    "text = widgets.Text(\n",
    "    value=\"\", placeholder=\"Type something...\", description=\"Input:\", disabled=False\n",
    ")\n",
    "submit = widgets.Button(description=\"Submit\", button_style=\"primary\")\n",
    "clear_btn = widgets.Button(description=\"Clear\")\n",
    "output = widgets.Output()\n",
    "\n",
    "# Handlers\n",
    "\n",
    "\n",
    "def on_submit(_):\n",
    "    with output:\n",
    "        clear_output(wait=True)\n",
    "        val = text.value.strip()\n",
    "        if val:\n",
    "            display(Markdown(f\"You entered: **{val}**\"))\n",
    "        else:\n",
    "            display(Markdown(\"_Please enter some text above._\"))\n",
    "\n",
    "\n",
    "def on_clear(_):\n",
    "    text.value = \"\"\n",
    "    with output:\n",
    "        clear_output(wait=True)\n",
    "\n",
    "\n",
    "# Wire events\n",
    "submit.on_click(on_submit)\n",
    "clear_btn.on_click(on_clear)\n",
    "text.on_submit(on_submit)\n",
    "\n",
    "# Layout\n",
    "controls = widgets.HBox([text, submit, clear_btn])\n",
    "ui = widgets.VBox([controls, output])\n",
    "ui"
   ]
  }
 ],
 "metadata": {
  "kernelspec": {
   "display_name": "base",
   "language": "python",
   "name": "python3"
  },
  "language_info": {
   "codemirror_mode": {
    "name": "ipython",
    "version": 3
   },
   "file_extension": ".py",
   "mimetype": "text/x-python",
   "name": "python",
   "nbconvert_exporter": "python",
   "pygments_lexer": "ipython3",
   "version": "3.13.5"
  }
 },
 "nbformat": 4,
 "nbformat_minor": 5
}
